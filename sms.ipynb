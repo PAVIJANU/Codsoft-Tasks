{
 "cells": [
  {
   "cell_type": "code",
   "execution_count": 1,
   "id": "4d2fd9f1",
   "metadata": {},
   "outputs": [],
   "source": [
    "import pandas as pd\n",
    "import numpy as np\n",
    "from matplotlib import pyplot as plt\n",
    "import seaborn as sns\n",
    "import nltk\n",
    "import os\n",
    "sns.set_style('whitegrid')\n",
    "import warnings\n",
    "warnings.filterwarnings('ignore')"
   ]
  },
  {
   "cell_type": "code",
   "execution_count": 42,
   "id": "e0c570b3",
   "metadata": {},
   "outputs": [],
   "source": [
    "df=pd.read_csv(\"C:\\\\Users\\\\phvic\\\\spam.csv\",encoding='latin-1')"
   ]
  },
  {
   "cell_type": "code",
   "execution_count": 43,
   "id": "8ca6c64d",
   "metadata": {},
   "outputs": [
    {
     "data": {
      "text/html": [
       "<div>\n",
       "<style scoped>\n",
       "    .dataframe tbody tr th:only-of-type {\n",
       "        vertical-align: middle;\n",
       "    }\n",
       "\n",
       "    .dataframe tbody tr th {\n",
       "        vertical-align: top;\n",
       "    }\n",
       "\n",
       "    .dataframe thead th {\n",
       "        text-align: right;\n",
       "    }\n",
       "</style>\n",
       "<table border=\"1\" class=\"dataframe\">\n",
       "  <thead>\n",
       "    <tr style=\"text-align: right;\">\n",
       "      <th></th>\n",
       "      <th>v1</th>\n",
       "      <th>v2</th>\n",
       "      <th>Unnamed: 2</th>\n",
       "      <th>Unnamed: 3</th>\n",
       "      <th>Unnamed: 4</th>\n",
       "    </tr>\n",
       "  </thead>\n",
       "  <tbody>\n",
       "    <tr>\n",
       "      <th>0</th>\n",
       "      <td>ham</td>\n",
       "      <td>Go until jurong point, crazy.. Available only ...</td>\n",
       "      <td>NaN</td>\n",
       "      <td>NaN</td>\n",
       "      <td>NaN</td>\n",
       "    </tr>\n",
       "    <tr>\n",
       "      <th>1</th>\n",
       "      <td>ham</td>\n",
       "      <td>Ok lar... Joking wif u oni...</td>\n",
       "      <td>NaN</td>\n",
       "      <td>NaN</td>\n",
       "      <td>NaN</td>\n",
       "    </tr>\n",
       "    <tr>\n",
       "      <th>2</th>\n",
       "      <td>spam</td>\n",
       "      <td>Free entry in 2 a wkly comp to win FA Cup fina...</td>\n",
       "      <td>NaN</td>\n",
       "      <td>NaN</td>\n",
       "      <td>NaN</td>\n",
       "    </tr>\n",
       "    <tr>\n",
       "      <th>3</th>\n",
       "      <td>ham</td>\n",
       "      <td>U dun say so early hor... U c already then say...</td>\n",
       "      <td>NaN</td>\n",
       "      <td>NaN</td>\n",
       "      <td>NaN</td>\n",
       "    </tr>\n",
       "    <tr>\n",
       "      <th>4</th>\n",
       "      <td>ham</td>\n",
       "      <td>Nah I don't think he goes to usf, he lives aro...</td>\n",
       "      <td>NaN</td>\n",
       "      <td>NaN</td>\n",
       "      <td>NaN</td>\n",
       "    </tr>\n",
       "  </tbody>\n",
       "</table>\n",
       "</div>"
      ],
      "text/plain": [
       "     v1                                                 v2 Unnamed: 2  \\\n",
       "0   ham  Go until jurong point, crazy.. Available only ...        NaN   \n",
       "1   ham                      Ok lar... Joking wif u oni...        NaN   \n",
       "2  spam  Free entry in 2 a wkly comp to win FA Cup fina...        NaN   \n",
       "3   ham  U dun say so early hor... U c already then say...        NaN   \n",
       "4   ham  Nah I don't think he goes to usf, he lives aro...        NaN   \n",
       "\n",
       "  Unnamed: 3 Unnamed: 4  \n",
       "0        NaN        NaN  \n",
       "1        NaN        NaN  \n",
       "2        NaN        NaN  \n",
       "3        NaN        NaN  \n",
       "4        NaN        NaN  "
      ]
     },
     "execution_count": 43,
     "metadata": {},
     "output_type": "execute_result"
    }
   ],
   "source": [
    "df.head()"
   ]
  },
  {
   "cell_type": "code",
   "execution_count": 4,
   "id": "e7b2ae01",
   "metadata": {},
   "outputs": [
    {
     "name": "stdout",
     "output_type": "stream",
     "text": [
      "<class 'pandas.core.frame.DataFrame'>\n",
      "RangeIndex: 5572 entries, 0 to 5571\n",
      "Data columns (total 5 columns):\n",
      " #   Column      Non-Null Count  Dtype \n",
      "---  ------      --------------  ----- \n",
      " 0   v1          5572 non-null   object\n",
      " 1   v2          5572 non-null   object\n",
      " 2   Unnamed: 2  50 non-null     object\n",
      " 3   Unnamed: 3  12 non-null     object\n",
      " 4   Unnamed: 4  6 non-null      object\n",
      "dtypes: object(5)\n",
      "memory usage: 217.8+ KB\n"
     ]
    }
   ],
   "source": [
    "df.info()"
   ]
  },
  {
   "cell_type": "code",
   "execution_count": 5,
   "id": "bc7e7a8b",
   "metadata": {},
   "outputs": [],
   "source": [
    "#lets delete Unnamed : 2 , Unnamed : 3 and Unnamed : 4 column because they are having zero values in almost entire column.\n",
    "column_to_delete=[name for name in df.columns if name.startswith('Unnamed')]\n",
    "df.drop(columns=column_to_delete,inplace=True)"
   ]
  },
  {
   "cell_type": "code",
   "execution_count": 6,
   "id": "d0131944",
   "metadata": {},
   "outputs": [],
   "source": [
    "#rename v1 column to target and v2 column to message\n",
    "df.rename(columns=dict({\"v1\":\"target\",\"v2\":\"message\"}),inplace=True)"
   ]
  },
  {
   "cell_type": "code",
   "execution_count": 7,
   "id": "bf8e56e1",
   "metadata": {},
   "outputs": [
    {
     "data": {
      "text/html": [
       "<div>\n",
       "<style scoped>\n",
       "    .dataframe tbody tr th:only-of-type {\n",
       "        vertical-align: middle;\n",
       "    }\n",
       "\n",
       "    .dataframe tbody tr th {\n",
       "        vertical-align: top;\n",
       "    }\n",
       "\n",
       "    .dataframe thead th {\n",
       "        text-align: right;\n",
       "    }\n",
       "</style>\n",
       "<table border=\"1\" class=\"dataframe\">\n",
       "  <thead>\n",
       "    <tr style=\"text-align: right;\">\n",
       "      <th></th>\n",
       "      <th>target</th>\n",
       "      <th>message</th>\n",
       "    </tr>\n",
       "  </thead>\n",
       "  <tbody>\n",
       "    <tr>\n",
       "      <th>5567</th>\n",
       "      <td>spam</td>\n",
       "      <td>This is the 2nd time we have tried 2 contact u...</td>\n",
       "    </tr>\n",
       "    <tr>\n",
       "      <th>5568</th>\n",
       "      <td>ham</td>\n",
       "      <td>Will Ì_ b going to esplanade fr home?</td>\n",
       "    </tr>\n",
       "    <tr>\n",
       "      <th>5569</th>\n",
       "      <td>ham</td>\n",
       "      <td>Pity, * was in mood for that. So...any other s...</td>\n",
       "    </tr>\n",
       "    <tr>\n",
       "      <th>5570</th>\n",
       "      <td>ham</td>\n",
       "      <td>The guy did some bitching but I acted like i'd...</td>\n",
       "    </tr>\n",
       "    <tr>\n",
       "      <th>5571</th>\n",
       "      <td>ham</td>\n",
       "      <td>Rofl. Its true to its name</td>\n",
       "    </tr>\n",
       "  </tbody>\n",
       "</table>\n",
       "</div>"
      ],
      "text/plain": [
       "     target                                            message\n",
       "5567   spam  This is the 2nd time we have tried 2 contact u...\n",
       "5568    ham              Will Ì_ b going to esplanade fr home?\n",
       "5569    ham  Pity, * was in mood for that. So...any other s...\n",
       "5570    ham  The guy did some bitching but I acted like i'd...\n",
       "5571    ham                         Rofl. Its true to its name"
      ]
     },
     "execution_count": 7,
     "metadata": {},
     "output_type": "execute_result"
    }
   ],
   "source": [
    "df.tail()"
   ]
  },
  {
   "cell_type": "code",
   "execution_count": 8,
   "id": "260d1fd9",
   "metadata": {},
   "outputs": [
    {
     "data": {
      "text/plain": [
       "target     0\n",
       "message    0\n",
       "dtype: int64"
      ]
     },
     "execution_count": 8,
     "metadata": {},
     "output_type": "execute_result"
    }
   ],
   "source": [
    "df.isnull().sum()"
   ]
  },
  {
   "cell_type": "code",
   "execution_count": 9,
   "id": "59e4705a",
   "metadata": {},
   "outputs": [
    {
     "name": "stdout",
     "output_type": "stream",
     "text": [
      "Total duplicated records in dataset are : 403\n"
     ]
    }
   ],
   "source": [
    "#print no of duplicate records\n",
    "print(\"Total duplicated records in dataset are : {}\".format(df.duplicated().sum()))"
   ]
  },
  {
   "cell_type": "code",
   "execution_count": 10,
   "id": "9c004294",
   "metadata": {},
   "outputs": [],
   "source": [
    "#lets remove duplicated records\n",
    "df.drop_duplicates(inplace=True)"
   ]
  },
  {
   "cell_type": "markdown",
   "id": "debb46b1",
   "metadata": {},
   "source": [
    "### Data Processing"
   ]
  },
  {
   "cell_type": "code",
   "execution_count": 11,
   "id": "c26f636b",
   "metadata": {},
   "outputs": [],
   "source": [
    "#function to map target with 0 and 1\n",
    "def target_mapper(text):\n",
    "    return 0 if text=='spam' else 1\n",
    "\n",
    "df[\"target\"]=df['target'].apply(func=target_mapper)"
   ]
  },
  {
   "cell_type": "code",
   "execution_count": 12,
   "id": "1dfff4b1",
   "metadata": {},
   "outputs": [
    {
     "name": "stderr",
     "output_type": "stream",
     "text": [
      "[nltk_data] Downloading package punkt to\n",
      "[nltk_data]     C:\\Users\\phvic\\AppData\\Roaming\\nltk_data...\n",
      "[nltk_data]   Package punkt is already up-to-date!\n",
      "[nltk_data] Downloading package stopwords to\n",
      "[nltk_data]     C:\\Users\\phvic\\AppData\\Roaming\\nltk_data...\n",
      "[nltk_data]   Package stopwords is already up-to-date!\n"
     ]
    }
   ],
   "source": [
    "#import nltk library for data preprocessing\n",
    "import nltk\n",
    "nltk.download('punkt') #download punctuation\n",
    "nltk.download('stopwords') #download stopwords\n",
    "from nltk.corpus import stopwords\n",
    "from nltk import PorterStemmer\n",
    "from nltk import tokenize  #import nltk tokenize package to use word and sentence tokenizer.\n",
    "STOPWORDS=stopwords.words(\"english\") #taking only english stopwords because spam messages are in english language only"
   ]
  },
  {
   "cell_type": "code",
   "execution_count": 13,
   "id": "0686356e",
   "metadata": {},
   "outputs": [],
   "source": [
    "#function to preprocess row text into ready to use format for our model.\n",
    "def message_tranformation(text):\n",
    "    text=text.strip() #remove black spaces from starting and ending of message text\n",
    "    text=text.lower() #coverting all message words into lowercase format to generalize it.\n",
    "\n",
    "    #tokenize the text\n",
    "    words=tokenize.word_tokenize(text)\n",
    "\n",
    "    #intialize the porter stemmer\n",
    "    stemmer=PorterStemmer()\n",
    "\n",
    "    #remove stopwords and applying stemming while ignoring special words.\n",
    "    filtered_words=[stemmer.stem(word) for word in words if word not in STOPWORDS and word.isalnum()]\n",
    "\n",
    "    #Join list of filter words back to the string format\n",
    "    transformed_text=\" \".join(filtered_words)\n",
    "    return transformed_text"
   ]
  },
  {
   "cell_type": "code",
   "execution_count": 14,
   "id": "d714466e",
   "metadata": {},
   "outputs": [],
   "source": [
    "#applying message tranformation function on email_df transformed_message column.\n",
    "df[\"transformed_message\"]=df[\"message\"].apply(message_tranformation)"
   ]
  },
  {
   "cell_type": "code",
   "execution_count": 15,
   "id": "a4e44ac7",
   "metadata": {},
   "outputs": [
    {
     "data": {
      "text/html": [
       "<div>\n",
       "<style scoped>\n",
       "    .dataframe tbody tr th:only-of-type {\n",
       "        vertical-align: middle;\n",
       "    }\n",
       "\n",
       "    .dataframe tbody tr th {\n",
       "        vertical-align: top;\n",
       "    }\n",
       "\n",
       "    .dataframe thead th {\n",
       "        text-align: right;\n",
       "    }\n",
       "</style>\n",
       "<table border=\"1\" class=\"dataframe\">\n",
       "  <thead>\n",
       "    <tr style=\"text-align: right;\">\n",
       "      <th></th>\n",
       "      <th>target</th>\n",
       "      <th>message</th>\n",
       "      <th>transformed_message</th>\n",
       "    </tr>\n",
       "  </thead>\n",
       "  <tbody>\n",
       "    <tr>\n",
       "      <th>0</th>\n",
       "      <td>1</td>\n",
       "      <td>Go until jurong point, crazy.. Available only ...</td>\n",
       "      <td>go jurong point crazi avail bugi n great world...</td>\n",
       "    </tr>\n",
       "    <tr>\n",
       "      <th>1</th>\n",
       "      <td>1</td>\n",
       "      <td>Ok lar... Joking wif u oni...</td>\n",
       "      <td>ok lar joke wif u oni</td>\n",
       "    </tr>\n",
       "    <tr>\n",
       "      <th>2</th>\n",
       "      <td>0</td>\n",
       "      <td>Free entry in 2 a wkly comp to win FA Cup fina...</td>\n",
       "      <td>free entri 2 wkli comp win fa cup final tkt 21...</td>\n",
       "    </tr>\n",
       "    <tr>\n",
       "      <th>3</th>\n",
       "      <td>1</td>\n",
       "      <td>U dun say so early hor... U c already then say...</td>\n",
       "      <td>u dun say earli hor u c alreadi say</td>\n",
       "    </tr>\n",
       "    <tr>\n",
       "      <th>4</th>\n",
       "      <td>1</td>\n",
       "      <td>Nah I don't think he goes to usf, he lives aro...</td>\n",
       "      <td>nah think goe usf live around though</td>\n",
       "    </tr>\n",
       "  </tbody>\n",
       "</table>\n",
       "</div>"
      ],
      "text/plain": [
       "   target                                            message  \\\n",
       "0       1  Go until jurong point, crazy.. Available only ...   \n",
       "1       1                      Ok lar... Joking wif u oni...   \n",
       "2       0  Free entry in 2 a wkly comp to win FA Cup fina...   \n",
       "3       1  U dun say so early hor... U c already then say...   \n",
       "4       1  Nah I don't think he goes to usf, he lives aro...   \n",
       "\n",
       "                                 transformed_message  \n",
       "0  go jurong point crazi avail bugi n great world...  \n",
       "1                              ok lar joke wif u oni  \n",
       "2  free entri 2 wkli comp win fa cup final tkt 21...  \n",
       "3                u dun say earli hor u c alreadi say  \n",
       "4               nah think goe usf live around though  "
      ]
     },
     "execution_count": 15,
     "metadata": {},
     "output_type": "execute_result"
    }
   ],
   "source": [
    "df.head()"
   ]
  },
  {
   "cell_type": "code",
   "execution_count": 16,
   "id": "253299a0",
   "metadata": {},
   "outputs": [],
   "source": [
    "#now we can delete message column because we are going to work with preprocessed text messages only.\n",
    "df.drop(columns=\"message\",inplace=True)"
   ]
  },
  {
   "cell_type": "code",
   "execution_count": 17,
   "id": "ab4448c0",
   "metadata": {},
   "outputs": [],
   "source": [
    "#configure object of wordcloud plot\n",
    "from wordcloud import WordCloud\n",
    "wc=WordCloud(width=1000,height=1000,min_font_size=8,background_color='white')"
   ]
  },
  {
   "cell_type": "code",
   "execution_count": 18,
   "id": "0da43dc5",
   "metadata": {},
   "outputs": [],
   "source": [
    "#used words in spam messages\n",
    "spam_corpus=list()\n",
    "for msg in df[df['target']==0][\"transformed_message\"].to_list():\n",
    "    for word in msg.split():\n",
    "        spam_corpus.append(word)"
   ]
  },
  {
   "cell_type": "code",
   "execution_count": 19,
   "id": "51c8704e",
   "metadata": {},
   "outputs": [
    {
     "data": {
      "text/plain": [
       "9939"
      ]
     },
     "execution_count": 19,
     "metadata": {},
     "output_type": "execute_result"
    }
   ],
   "source": [
    "len(spam_corpus)"
   ]
  },
  {
   "cell_type": "code",
   "execution_count": 20,
   "id": "1b4bcac0",
   "metadata": {
    "scrolled": true
   },
   "outputs": [
    {
     "name": "stdout",
     "output_type": "stream",
     "text": [
      "           0    1\n",
      "0       call  320\n",
      "1       free  191\n",
      "2          2  155\n",
      "3        txt  141\n",
      "4       text  122\n",
      "5          u  119\n",
      "6         ur  119\n",
      "7      mobil  114\n",
      "8       stop  104\n",
      "9      repli  103\n",
      "10     claim   98\n",
      "11         4   97\n",
      "12     prize   82\n",
      "13       get   74\n",
      "14       new   64\n",
      "15    servic   64\n",
      "16      tone   63\n",
      "17      send   60\n",
      "18    urgent   57\n",
      "19     nokia   57\n",
      "20   contact   56\n",
      "21     award   55\n",
      "22     phone   52\n",
      "23      cash   51\n",
      "24     pleas   51\n",
      "25      week   49\n",
      "26       win   48\n",
      "27         c   45\n",
      "28   collect   45\n",
      "29       min   45\n",
      "30    custom   42\n",
      "31    messag   42\n",
      "32  guarante   42\n",
      "33       per   41\n",
      "34      chat   38\n",
      "35       tri   37\n",
      "36       msg   35\n",
      "37      draw   35\n",
      "38    number   35\n",
      "39        cs   35\n",
      "40      show   33\n",
      "41     today   33\n",
      "42     offer   33\n",
      "43      line   33\n",
      "44        go   32\n",
      "45    receiv   31\n",
      "46      want   31\n",
      "47    latest   30\n",
      "48   rington   30\n",
      "49   landlin   30\n"
     ]
    }
   ],
   "source": [
    "#print the most common 50 words from the spam category messages\n",
    "from collections import Counter\n",
    "spam_top_50_common_words=pd.DataFrame(Counter(spam_corpus).most_common(50))\n",
    "print(spam_top_50_common_words)"
   ]
  },
  {
   "cell_type": "code",
   "execution_count": 21,
   "id": "f4275fa5",
   "metadata": {},
   "outputs": [],
   "source": [
    "#used words in ham messages\n",
    "ham_corpus=list()\n",
    "for msg in df[df['target']==1][\"transformed_message\"].to_list():\n",
    "    for word in msg.split():\n",
    "        ham_corpus.append(word)"
   ]
  },
  {
   "cell_type": "code",
   "execution_count": 22,
   "id": "ac1e2521",
   "metadata": {},
   "outputs": [
    {
     "data": {
      "text/plain": [
       "35394"
      ]
     },
     "execution_count": 22,
     "metadata": {},
     "output_type": "execute_result"
    }
   ],
   "source": [
    "len(ham_corpus)"
   ]
  },
  {
   "cell_type": "code",
   "execution_count": 23,
   "id": "87082339",
   "metadata": {},
   "outputs": [
    {
     "name": "stdout",
     "output_type": "stream",
     "text": [
      "        0    1\n",
      "0       u  883\n",
      "1      go  404\n",
      "2     get  349\n",
      "3      gt  288\n",
      "4      lt  287\n",
      "5       2  284\n",
      "6    come  275\n",
      "7     got  236\n",
      "8    know  236\n",
      "9    like  234\n",
      "10   call  233\n",
      "11   time  219\n",
      "12     ok  217\n",
      "13   love  216\n",
      "14   good  213\n",
      "15   want  208\n",
      "16     ur  197\n",
      "17    day  190\n",
      "18   need  170\n",
      "19    one  165\n",
      "20    lor  159\n",
      "21      4  156\n",
      "22   home  152\n",
      "23  think  149\n",
      "24    see  147\n",
      "25   take  143\n",
      "26  still  143\n",
      "27     da  138\n",
      "28   tell  133\n",
      "29   make  129\n",
      "30    say  127\n",
      "31   back  127\n",
      "32  today  123\n",
      "33   hope  122\n",
      "34    ask  121\n",
      "35  sorri  121\n",
      "36      n  120\n",
      "37   send  120\n",
      "38      r  120\n",
      "39   work  118\n",
      "40   dont  118\n",
      "41   meet  112\n",
      "42     hi  111\n",
      "43   well  109\n",
      "44  thing  109\n",
      "45    wat  108\n",
      "46      k  107\n",
      "47   much  107\n",
      "48  night  107\n",
      "49     oh  106\n"
     ]
    }
   ],
   "source": [
    "#most commnaly used 50 words from ham category messages\n",
    "ham_top_50_common_words=pd.DataFrame(Counter(ham_corpus).most_common(50))\n",
    "print(ham_top_50_common_words)"
   ]
  },
  {
   "cell_type": "markdown",
   "id": "11dbd33a",
   "metadata": {},
   "source": [
    "### Data Transformation"
   ]
  },
  {
   "cell_type": "code",
   "execution_count": 24,
   "id": "9f31ec3d",
   "metadata": {},
   "outputs": [],
   "source": [
    "from sklearn.feature_extraction.text import CountVectorizer\n",
    "cVector=CountVectorizer() #CountVectorizer is used to convert text into numeric array\n",
    "x=cVector.fit_transform(df[\"transformed_message\"]).toarray()"
   ]
  },
  {
   "cell_type": "code",
   "execution_count": 25,
   "id": "3d6c4d50",
   "metadata": {},
   "outputs": [],
   "source": [
    "#seperating target column\n",
    "y=df['target']"
   ]
  },
  {
   "cell_type": "code",
   "execution_count": 26,
   "id": "1e0edcf2",
   "metadata": {},
   "outputs": [
    {
     "data": {
      "image/png": "[encoded data removed]",
      "text/plain": [
       "<Figure size 432x288 with 1 Axes>"
      ]
     },
     "metadata": {},
     "output_type": "display_data"
    }
   ],
   "source": [
    "#check the distribution of target variable using Pie chart\n",
    "plt.pie(y.value_counts().values,labels=[\"Not Spam\",\"Spam\"],autopct=\"%0.2f%%\")\n",
    "plt.show()\n"
   ]
  },
  {
   "cell_type": "code",
   "execution_count": 27,
   "id": "970c5de1",
   "metadata": {},
   "outputs": [
    {
     "data": {
      "text/plain": [
       "((4135, 6708), (4135,), (1034, 6708), (1034,))"
      ]
     },
     "execution_count": 27,
     "metadata": {},
     "output_type": "execute_result"
    }
   ],
   "source": [
    "from sklearn.model_selection import train_test_split\n",
    "x_train,x_test,y_train,y_test=train_test_split(x,y,test_size=0.2,random_state=43)\n",
    "x_train.shape,y_train.shape,x_test.shape,y_test.shape"
   ]
  },
  {
   "cell_type": "code",
   "execution_count": 28,
   "id": "a67c5fb1",
   "metadata": {},
   "outputs": [],
   "source": [
    "from sklearn.metrics import accuracy_score,precision_score,recall_score,f1_score,confusion_matrix,classification_report\n",
    "\n",
    "\n",
    "#function to evaluate the performance of model\n",
    "def evaluate_model_performance(model,x_test,y_test):\n",
    "    y_pred=model.predict(x_test)\n",
    "    print(\"Accurary Score : {}\".format(np.round(accuracy_score(y_test,y_pred)*100,decimals=2)))\n",
    "    print(\"Precision Score : {}\".format(np.round(precision_score(y_test,y_pred)*100,decimals=2)))\n",
    "    print(\"Recall Score : {}\".format(np.round(recall_score(y_test,y_pred)*100,decimals=2)))\n",
    "    print(\"F1 Score : {}\".format(np.round(f1_score(y_test,y_pred)*100,decimals=2)))\n",
    "    cm=confusion_matrix(y_test,y_pred)\n",
    "    sns.heatmap(cm,fmt=\"d\",annot=True,cmap=\"rainbow\")\n",
    "    plt.show()\n",
    "    print(\"*Classification Report*********************************************\")\n",
    "    print(classification_report(y_test,y_pred))"
   ]
  },
  {
   "cell_type": "code",
   "execution_count": 29,
   "id": "7e7b6705",
   "metadata": {},
   "outputs": [],
   "source": [
    "#import models\n",
    "from sklearn.linear_model import LogisticRegression\n",
    "from sklearn.naive_bayes import MultinomialNB\n",
    "from sklearn.svm import SVC\n",
    "from sklearn.neighbors import KNeighborsClassifier\n",
    "from sklearn.tree import DecisionTreeClassifier\n",
    "from sklearn.ensemble import RandomForestClassifier\n",
    "from xgboost import XGBClassifier\n",
    "from sklearn.model_selection import cross_val_score"
   ]
  },
  {
   "cell_type": "code",
   "execution_count": 30,
   "id": "84cd6212",
   "metadata": {},
   "outputs": [
    {
     "name": "stdout",
     "output_type": "stream",
     "text": [
      "Requirement already satisfied: imblearn in c:\\users\\phvic\\anaconda3\\lib\\site-packages (0.0)\n",
      "Requirement already satisfied: imbalanced-learn in c:\\users\\phvic\\anaconda3\\lib\\site-packages (from imblearn) (0.11.0)\n",
      "Requirement already satisfied: numpy>=1.17.3 in c:\\users\\phvic\\anaconda3\\lib\\site-packages (from imbalanced-learn->imblearn) (1.21.5)\n",
      "Requirement already satisfied: scipy>=1.5.0 in c:\\users\\phvic\\anaconda3\\lib\\site-packages (from imbalanced-learn->imblearn) (1.7.3)\n",
      "Requirement already satisfied: scikit-learn>=1.0.2 in c:\\users\\phvic\\anaconda3\\lib\\site-packages (from imbalanced-learn->imblearn) (1.0.2)\n",
      "Requirement already satisfied: joblib>=1.1.1 in c:\\users\\phvic\\anaconda3\\lib\\site-packages (from imbalanced-learn->imblearn) (1.3.2)\n",
      "Requirement already satisfied: threadpoolctl>=2.0.0 in c:\\users\\phvic\\anaconda3\\lib\\site-packages (from imbalanced-learn->imblearn) (2.2.0)\n"
     ]
    }
   ],
   "source": [
    "!pip install imblearn"
   ]
  },
  {
   "cell_type": "code",
   "execution_count": 31,
   "id": "c5adf2b5",
   "metadata": {
    "scrolled": true
   },
   "outputs": [
    {
     "name": "stdout",
     "output_type": "stream",
     "text": [
      "lr  :  94.6\n",
      "nb  :  97.6\n",
      "svm  :  89.2\n",
      "knn  :  85.8\n",
      "cart  :  91.6\n",
      "rf  :  92.2\n",
      "xgbc  :  94.2\n"
     ]
    },
    {
     "data": {
      "image/png": "[encoded data removed]",
      "text/plain": [
       "<Figure size 432x288 with 1 Axes>"
      ]
     },
     "metadata": {},
     "output_type": "display_data"
    }
   ],
   "source": [
    "from sklearn.model_selection import StratifiedKFold\n",
    "from imblearn.over_sampling import RandomOverSampler\n",
    "\n",
    "# Define models\n",
    "models = {\n",
    "    \"lr\":LogisticRegression(),\n",
    "    \"nb\":MultinomialNB(),\n",
    "    \"svm\":SVC(),\n",
    "    \"knn\":KNeighborsClassifier(),\n",
    "    \"cart\":DecisionTreeClassifier(),\n",
    "    \"rf\":RandomForestClassifier(),\n",
    "    \"xgbc\":XGBClassifier()\n",
    "}\n",
    "\n",
    "# Define oversampler for dealing with imbalance\n",
    "oversampler = RandomOverSampler()\n",
    "\n",
    "# Define cross-validation strategy for imbalanced data\n",
    "cv = StratifiedKFold(n_splits=5, shuffle=True, random_state=42)\n",
    "\n",
    "model_scores=list()\n",
    "# Loop through each model and evaluate its performance\n",
    "for model_name, model in models.items():\n",
    "    # Apply oversampling to training data\n",
    "    X_resampled, y_resampled = oversampler.fit_resample(x, y)\n",
    "\n",
    "    # Perform cross-validation\n",
    "    scores = cross_val_score(model, X_resampled[:500], y_resampled[:500], cv=cv, scoring=\"f1_micro\")\n",
    "    print(model_name,\" : \",np.round(np.mean(scores)*100,decimals=2))\n",
    "    model_scores.append(scores)\n",
    "# boxplot algorithm comparison\n",
    "fig = plt.figure()\n",
    "fig.suptitle('Algorithm Comparison')\n",
    "ax = fig.add_subplot(111)\n",
    "plt.boxplot(model_scores)\n",
    "ax.set_xticklabels(models.keys())\n",
    "plt.show()"
   ]
  },
  {
   "cell_type": "code",
   "execution_count": 32,
   "id": "325cb8ce",
   "metadata": {},
   "outputs": [
    {
     "name": "stdout",
     "output_type": "stream",
     "text": [
      "Model Training score :  0.992503022974607\n"
     ]
    }
   ],
   "source": [
    "#training our final Multinomial Naive Bayes model\n",
    "NB_model=MultinomialNB()\n",
    "NB_model.fit(x_train,y_train)\n",
    "print(\"Model Training score : \",NB_model.score(x_train,y_train))\n"
   ]
  },
  {
   "cell_type": "code",
   "execution_count": 33,
   "id": "2d2fba5d",
   "metadata": {
    "scrolled": true
   },
   "outputs": [
    {
     "name": "stdout",
     "output_type": "stream",
     "text": [
      "Accurary Score : 97.97\n",
      "Precision Score : 98.88\n",
      "Recall Score : 98.77\n",
      "F1 Score : 98.83\n"
     ]
    },
    {
     "data": {
      "image/png": "[encoded data removed]",
      "text/plain": [
       "<Figure size 432x288 with 2 Axes>"
      ]
     },
     "metadata": {},
     "output_type": "display_data"
    },
    {
     "name": "stdout",
     "output_type": "stream",
     "text": [
      "*Classification Report*********************************************\n",
      "              precision    recall  f1-score   support\n",
      "\n",
      "           0       0.92      0.93      0.92       139\n",
      "           1       0.99      0.99      0.99       895\n",
      "\n",
      "    accuracy                           0.98      1034\n",
      "   macro avg       0.96      0.96      0.96      1034\n",
      "weighted avg       0.98      0.98      0.98      1034\n",
      "\n"
     ]
    }
   ],
   "source": [
    "#model performance\n",
    "evaluate_model_performance(NB_model,x_test,y_test)\n"
   ]
  },
  {
   "cell_type": "code",
   "execution_count": 34,
   "id": "2aac703e",
   "metadata": {},
   "outputs": [
    {
     "data": {
      "text/plain": [
       "SVC(random_state=20)"
      ]
     },
     "execution_count": 34,
     "metadata": {},
     "output_type": "execute_result"
    }
   ],
   "source": [
    "svm_model = SVC(random_state = 20)\n",
    "svm_model.fit(x_train, y_train)\n"
   ]
  },
  {
   "cell_type": "code",
   "execution_count": 35,
   "id": "29cc49fa",
   "metadata": {},
   "outputs": [
    {
     "data": {
      "text/plain": [
       "0.9671179883945842"
      ]
     },
     "execution_count": 35,
     "metadata": {},
     "output_type": "execute_result"
    }
   ],
   "source": [
    "svm_model.score(x_test,y_test)\n"
   ]
  },
  {
   "cell_type": "code",
   "execution_count": 36,
   "id": "79dcff39",
   "metadata": {},
   "outputs": [
    {
     "data": {
      "text/plain": [
       "array([0, 1, 1, ..., 1, 1, 1], dtype=int64)"
      ]
     },
     "execution_count": 36,
     "metadata": {},
     "output_type": "execute_result"
    }
   ],
   "source": [
    "y_pred = svm_model.predict(x_test)\n",
    "y_pred\n"
   ]
  },
  {
   "cell_type": "code",
   "execution_count": 37,
   "id": "e2e9982a",
   "metadata": {
    "scrolled": true
   },
   "outputs": [
    {
     "data": {
      "image/png": "[encoded data removed]",
      "text/plain": [
       "<Figure size 432x288 with 2 Axes>"
      ]
     },
     "metadata": {},
     "output_type": "display_data"
    }
   ],
   "source": [
    "cm = confusion_matrix(y_test, y_pred)\n",
    "sns.heatmap(cm, annot=True, fmt=\"d\")\n",
    "plt.xlabel('Predicted')\n",
    "plt.ylabel('Actual')\n",
    "plt.title('Confusion Matrix')\n",
    "plt.show()\n"
   ]
  },
  {
   "cell_type": "code",
   "execution_count": 44,
   "id": "6c00caf0",
   "metadata": {
    "scrolled": true
   },
   "outputs": [],
   "source": [
    "train=df.drop(['Unnamed: 2','Unnamed: 3','Unnamed: 4'],axis=1)"
   ]
  },
  {
   "cell_type": "code",
   "execution_count": 45,
   "id": "ea30817c",
   "metadata": {},
   "outputs": [],
   "source": [
    "train.columns=['Label','message']"
   ]
  },
  {
   "cell_type": "code",
   "execution_count": 46,
   "id": "c94679e3",
   "metadata": {},
   "outputs": [
    {
     "data": {
      "text/html": [
       "<div>\n",
       "<style scoped>\n",
       "    .dataframe tbody tr th:only-of-type {\n",
       "        vertical-align: middle;\n",
       "    }\n",
       "\n",
       "    .dataframe tbody tr th {\n",
       "        vertical-align: top;\n",
       "    }\n",
       "\n",
       "    .dataframe thead th {\n",
       "        text-align: right;\n",
       "    }\n",
       "</style>\n",
       "<table border=\"1\" class=\"dataframe\">\n",
       "  <thead>\n",
       "    <tr style=\"text-align: right;\">\n",
       "      <th></th>\n",
       "      <th>Label</th>\n",
       "      <th>message</th>\n",
       "    </tr>\n",
       "  </thead>\n",
       "  <tbody>\n",
       "    <tr>\n",
       "      <th>0</th>\n",
       "      <td>ham</td>\n",
       "      <td>Go until jurong point, crazy.. Available only ...</td>\n",
       "    </tr>\n",
       "    <tr>\n",
       "      <th>1</th>\n",
       "      <td>ham</td>\n",
       "      <td>Ok lar... Joking wif u oni...</td>\n",
       "    </tr>\n",
       "    <tr>\n",
       "      <th>2</th>\n",
       "      <td>spam</td>\n",
       "      <td>Free entry in 2 a wkly comp to win FA Cup fina...</td>\n",
       "    </tr>\n",
       "    <tr>\n",
       "      <th>3</th>\n",
       "      <td>ham</td>\n",
       "      <td>U dun say so early hor... U c already then say...</td>\n",
       "    </tr>\n",
       "    <tr>\n",
       "      <th>4</th>\n",
       "      <td>ham</td>\n",
       "      <td>Nah I don't think he goes to usf, he lives aro...</td>\n",
       "    </tr>\n",
       "  </tbody>\n",
       "</table>\n",
       "</div>"
      ],
      "text/plain": [
       "  Label                                            message\n",
       "0   ham  Go until jurong point, crazy.. Available only ...\n",
       "1   ham                      Ok lar... Joking wif u oni...\n",
       "2  spam  Free entry in 2 a wkly comp to win FA Cup fina...\n",
       "3   ham  U dun say so early hor... U c already then say...\n",
       "4   ham  Nah I don't think he goes to usf, he lives aro..."
      ]
     },
     "execution_count": 46,
     "metadata": {},
     "output_type": "execute_result"
    }
   ],
   "source": [
    "train.head()"
   ]
  },
  {
   "cell_type": "code",
   "execution_count": 47,
   "id": "6707ece3",
   "metadata": {},
   "outputs": [],
   "source": [
    "x1=train['message']\n",
    "y1=train['Label']"
   ]
  },
  {
   "cell_type": "code",
   "execution_count": 59,
   "id": "39d40e54",
   "metadata": {},
   "outputs": [
    {
     "name": "stderr",
     "output_type": "stream",
     "text": [
      "ERROR: Could not find a version that satisfies the requirement simplifier (from versions: none)\n",
      "ERROR: No matching distribution found for simplifier\n"
     ]
    }
   ],
   "source": []
  },
  {
   "cell_type": "code",
   "execution_count": 60,
   "id": "3a590b9d",
   "metadata": {},
   "outputs": [],
   "source": [
    "from sklearn.pipeline import Pipeline\n",
    "from sklearn.pipeline import Pipeline\n",
    "from sklearn.model_selection import train_test_split\n",
    "from sklearn.feature_extraction.text import CountVectorizer\n",
    "from sklearn.feature_extraction.text import TfidfTransformer\n",
    "from sklearn.model_selection import cross_val_score\n",
    "from sklearn.metrics import classification_report\n",
    "def classify(model):\n",
    "    x1_train, x1_test, y1_train, y1_test = train_test_split(x1, y1, test_size=0.3,random_state=42)\n",
    "    pipeline=Pipeline([('bow',CountVectorizer()),\n",
    "                       ('tfidf',TfidfTransformer()),\n",
    "                       ('classifier',model)])\n",
    "    pipeline.fit(x1_train,y1_train)\n",
    "    predictions=pipeline.predict(x1_test)\n",
    "    \n",
    "    print('accuracy:',pipeline.score(x1_test,y1_test))\n",
    "    score=cross_val_score(pipeline,x1,y1)\n",
    "    print(score)\n",
    "    print('CVscore:',np.mean(score))\n",
    "    print('\\n')\n",
    "    print(classification_report(y1_test,predictions))"
   ]
  },
  {
   "cell_type": "markdown",
   "id": "3cf55777",
   "metadata": {},
   "source": [
    "## Using Naive bayes"
   ]
  },
  {
   "cell_type": "code",
   "execution_count": 61,
   "id": "b26bdcd7",
   "metadata": {
    "scrolled": false
   },
   "outputs": [
    {
     "name": "stdout",
     "output_type": "stream",
     "text": [
      "accuracy: 0.9599282296650717\n",
      "[0.96143498 0.95515695 0.95780969 0.9551167  0.96050269]\n",
      "CVscore: 0.9580042025263463\n",
      "\n",
      "\n",
      "              precision    recall  f1-score   support\n",
      "\n",
      "         ham       0.96      1.00      0.98      1453\n",
      "        spam       1.00      0.69      0.82       219\n",
      "\n",
      "    accuracy                           0.96      1672\n",
      "   macro avg       0.98      0.85      0.90      1672\n",
      "weighted avg       0.96      0.96      0.96      1672\n",
      "\n"
     ]
    }
   ],
   "source": [
    "from sklearn.naive_bayes import MultinomialNB\n",
    "model=MultinomialNB()\n",
    "classify(model)"
   ]
  },
  {
   "cell_type": "markdown",
   "id": "575a2fb9",
   "metadata": {},
   "source": [
    "## Using LogisticRegression"
   ]
  },
  {
   "cell_type": "code",
   "execution_count": 62,
   "id": "9ab08e16",
   "metadata": {},
   "outputs": [
    {
     "name": "stdout",
     "output_type": "stream",
     "text": [
      "accuracy: 0.9659090909090909\n",
      "[0.96860987 0.97130045 0.97127469 0.96499102 0.97396768]\n",
      "CVscore: 0.9700287414158166\n",
      "\n",
      "\n",
      "              precision    recall  f1-score   support\n",
      "\n",
      "         ham       0.96      1.00      0.98      1453\n",
      "        spam       0.99      0.74      0.85       219\n",
      "\n",
      "    accuracy                           0.97      1672\n",
      "   macro avg       0.98      0.87      0.92      1672\n",
      "weighted avg       0.97      0.97      0.96      1672\n",
      "\n"
     ]
    }
   ],
   "source": [
    "from sklearn.linear_model import LogisticRegression\n",
    "model=LogisticRegression()\n",
    "classify(model)"
   ]
  },
  {
   "cell_type": "markdown",
   "id": "c7b154d0",
   "metadata": {},
   "source": [
    "## Using DecisonTree"
   ]
  },
  {
   "cell_type": "code",
   "execution_count": 63,
   "id": "889d1a31",
   "metadata": {
    "scrolled": true
   },
   "outputs": [
    {
     "name": "stdout",
     "output_type": "stream",
     "text": [
      "accuracy: 0.9671052631578947\n",
      "[0.96860987 0.96681614 0.95332136 0.96319569 0.96140036]\n",
      "CVscore: 0.9626686847380667\n",
      "\n",
      "\n",
      "              precision    recall  f1-score   support\n",
      "\n",
      "         ham       0.98      0.99      0.98      1453\n",
      "        spam       0.90      0.84      0.87       219\n",
      "\n",
      "    accuracy                           0.97      1672\n",
      "   macro avg       0.94      0.91      0.93      1672\n",
      "weighted avg       0.97      0.97      0.97      1672\n",
      "\n"
     ]
    }
   ],
   "source": [
    "from sklearn.tree import DecisionTreeClassifier\n",
    "model=DecisionTreeClassifier()\n",
    "classify(model)"
   ]
  },
  {
   "cell_type": "markdown",
   "id": "1b3f26bd",
   "metadata": {},
   "source": [
    "## Using RandomForest"
   ]
  },
  {
   "cell_type": "code",
   "execution_count": 64,
   "id": "5aaeb8bf",
   "metadata": {},
   "outputs": [
    {
     "name": "stdout",
     "output_type": "stream",
     "text": [
      "accuracy: 0.9772727272727273\n",
      "[0.97488789 0.97578475 0.97486535 0.96678636 0.97576302]\n",
      "CVscore: 0.9736174734926857\n",
      "\n",
      "\n",
      "              precision    recall  f1-score   support\n",
      "\n",
      "         ham       0.97      1.00      0.99      1453\n",
      "        spam       1.00      0.83      0.91       219\n",
      "\n",
      "    accuracy                           0.98      1672\n",
      "   macro avg       0.99      0.91      0.95      1672\n",
      "weighted avg       0.98      0.98      0.98      1672\n",
      "\n"
     ]
    }
   ],
   "source": [
    "from sklearn.ensemble import RandomForestClassifier\n",
    "model=RandomForestClassifier()\n",
    "classify(model)"
   ]
  },
  {
   "cell_type": "markdown",
   "id": "6826dfa0",
   "metadata": {},
   "source": [
    "## Using Adaboost"
   ]
  },
  {
   "cell_type": "code",
   "execution_count": 65,
   "id": "b81ce55f",
   "metadata": {},
   "outputs": [
    {
     "name": "stdout",
     "output_type": "stream",
     "text": [
      "accuracy: 0.9712918660287081\n",
      "[0.96950673 0.97847534 0.97307002 0.97486535 0.96947935]\n",
      "CVscore: 0.9730793569007578\n",
      "\n",
      "\n",
      "              precision    recall  f1-score   support\n",
      "\n",
      "         ham       0.97      0.99      0.98      1453\n",
      "        spam       0.96      0.82      0.88       219\n",
      "\n",
      "    accuracy                           0.97      1672\n",
      "   macro avg       0.97      0.91      0.93      1672\n",
      "weighted avg       0.97      0.97      0.97      1672\n",
      "\n"
     ]
    }
   ],
   "source": [
    "from sklearn.ensemble import AdaBoostClassifier\n",
    "model=AdaBoostClassifier()\n",
    "classify(model)"
   ]
  },
  {
   "cell_type": "markdown",
   "id": "14b766c7",
   "metadata": {},
   "source": [
    "## Using Gradientboost"
   ]
  },
  {
   "cell_type": "code",
   "execution_count": 66,
   "id": "64d0b12a",
   "metadata": {
    "scrolled": true
   },
   "outputs": [
    {
     "name": "stdout",
     "output_type": "stream",
     "text": [
      "accuracy: 0.9683014354066986\n",
      "[0.97040359 0.97219731 0.95960503 0.96499102 0.96499102]\n",
      "CVscore: 0.9664375940939207\n",
      "\n",
      "\n",
      "              precision    recall  f1-score   support\n",
      "\n",
      "         ham       0.97      1.00      0.98      1453\n",
      "        spam       0.99      0.77      0.86       219\n",
      "\n",
      "    accuracy                           0.97      1672\n",
      "   macro avg       0.98      0.88      0.92      1672\n",
      "weighted avg       0.97      0.97      0.97      1672\n",
      "\n"
     ]
    }
   ],
   "source": [
    "from sklearn.ensemble import GradientBoostingClassifier\n",
    "model=GradientBoostingClassifier()\n",
    "classify(model)"
   ]
  },
  {
   "cell_type": "markdown",
   "id": "9c1634b3",
   "metadata": {},
   "source": [
    "## Using Knn"
   ]
  },
  {
   "cell_type": "code",
   "execution_count": 67,
   "id": "f8e48600",
   "metadata": {},
   "outputs": [
    {
     "name": "stdout",
     "output_type": "stream",
     "text": [
      "accuracy: 0.9120813397129187\n",
      "[0.9103139  0.9103139  0.91202873 0.95960503 0.95960503]\n",
      "CVscore: 0.9303733163729462\n",
      "\n",
      "\n",
      "              precision    recall  f1-score   support\n",
      "\n",
      "         ham       0.91      1.00      0.95      1453\n",
      "        spam       1.00      0.33      0.49       219\n",
      "\n",
      "    accuracy                           0.91      1672\n",
      "   macro avg       0.95      0.66      0.72      1672\n",
      "weighted avg       0.92      0.91      0.89      1672\n",
      "\n"
     ]
    }
   ],
   "source": [
    "from sklearn.neighbors import KNeighborsClassifier\n",
    "model=KNeighborsClassifier()\n",
    "classify(model)"
   ]
  },
  {
   "cell_type": "markdown",
   "id": "24564d5d",
   "metadata": {},
   "source": [
    "## Using svm"
   ]
  },
  {
   "cell_type": "code",
   "execution_count": 68,
   "id": "7f62db80",
   "metadata": {
    "scrolled": true
   },
   "outputs": [
    {
     "name": "stdout",
     "output_type": "stream",
     "text": [
      "accuracy: 0.9796650717703349\n",
      "[0.9793722  0.98116592 0.98025135 0.97845601 0.98384201]\n",
      "CVscore: 0.9806174976451361\n",
      "\n",
      "\n",
      "              precision    recall  f1-score   support\n",
      "\n",
      "         ham       0.98      1.00      0.99      1453\n",
      "        spam       1.00      0.84      0.92       219\n",
      "\n",
      "    accuracy                           0.98      1672\n",
      "   macro avg       0.99      0.92      0.95      1672\n",
      "weighted avg       0.98      0.98      0.98      1672\n",
      "\n"
     ]
    }
   ],
   "source": [
    "from sklearn.svm import SVC\n",
    "model=SVC()\n",
    "classify(model)"
   ]
  },
  {
   "cell_type": "markdown",
   "id": "cad77ca2",
   "metadata": {},
   "source": [
    "## Using GridSearch"
   ]
  },
  {
   "cell_type": "code",
   "execution_count": 69,
   "id": "a8aae969",
   "metadata": {},
   "outputs": [
    {
     "name": "stdout",
     "output_type": "stream",
     "text": [
      "accuracy: 0.9826555023923444\n",
      "[0.98565022 0.98654709 0.98384201 0.98833034 0.98563734]\n",
      "CVscore: 0.9860014008421155\n",
      "\n",
      "\n",
      "              precision    recall  f1-score   support\n",
      "\n",
      "         ham       0.98      1.00      0.99      1453\n",
      "        spam       0.97      0.89      0.93       219\n",
      "\n",
      "    accuracy                           0.98      1672\n",
      "   macro avg       0.98      0.94      0.96      1672\n",
      "weighted avg       0.98      0.98      0.98      1672\n",
      "\n"
     ]
    }
   ],
   "source": [
    "from sklearn.model_selection import GridSearchCV\n",
    "param_grid={'C':[0.1,1,10,100,1000],'gamma':[1,0.1,0.01,0.001,0.0001]}\n",
    "model=GridSearchCV(SVC(),param_grid)\n",
    "classify(model)"
   ]
  }
 ],
 "metadata": {
  "kernelspec": {
   "display_name": "Python 3 (ipykernel)",
   "language": "python",
   "name": "python3"
  },
  "language_info": {
   "codemirror_mode": {
    "name": "ipython",
    "version": 3
   },
   "file_extension": ".py",
   "mimetype": "text/x-python",
   "name": "python",
   "nbconvert_exporter": "python",
   "pygments_lexer": "ipython3",
   "version": "3.9.12"
  }
 },
 "nbformat": 4,
 "nbformat_minor": 5
}
